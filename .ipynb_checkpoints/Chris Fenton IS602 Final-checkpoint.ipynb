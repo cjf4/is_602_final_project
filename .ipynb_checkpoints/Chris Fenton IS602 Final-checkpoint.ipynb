{
 "cells": [
  {
   "cell_type": "markdown",
   "metadata": {},
   "source": [
    "## NFL Play Analysis (IS602 Final Project)\n",
    "\n",
    "For my project, I wanted to analyze play data for the NFL and see how game state impacted the game. My method of determining game state was by calculating a running score for each play.\n",
    "\n",
    "First, I needed a dataset of NFL plays. I was originally thinking I may have to scrape web sources, but fortunately there was an already compiled data set at the website http://nflsavant.com/about.php.\n",
    "\n",
    "Despite its rather large scope, this dataset did not include some critical components, like whether the play was a scoring play that counted, who the home and away teams were, and the running score. So the first part involved wrangling this data set into a usable format.\n",
    "\n",
    "The code is too long to include here but the full file can be viewed here: https://github.com/cjf4/is_602_final_project/blob/master/fenton_final.py\n",
    "\n",
    "A quick summary of my approach:\n",
    "* I sorted the plays by game, quarter, and time. This way they were ordered chronologically, making it possible to calculate a running score.\\\n",
    "* I imported a schedule file to determine who the home and away teams were for each game.\n",
    "* I added some extra fields by parsing the text \"description\" field to determine whether the play was a \"special\" football play, like a PAT, Punt, Safety, or Reversed Play.\n",
    "* I iterated through each play to determine if was a scoring play that counted, by looking for the specific types of scores (TD, FG, Safety, PAT, 2 point Convsersion). Those were than added as generic scores.\n",
    "* Next, I iterated through each play, and if it was a scoring play, added that to the home or away team's score as applicable.\n",
    "* Finally, I output a file to the same directory that was loaded for the below analysis."
   ]
  },
  {
   "cell_type": "code",
   "execution_count": 1,
   "metadata": {
    "collapsed": true
   },
   "outputs": [],
   "source": [
    "%matplotlib inline\n",
    "import pandas as pd\n",
    "import numpy as np\n",
    "import matplotlib.pyplot as plt\n",
    "\n",
    "d = pd.read_csv('pbp-2015-output.csv')"
   ]
  },
  {
   "cell_type": "markdown",
   "metadata": {},
   "source": [
    "With the data read in, the analysis I wanted to look at was whether or not play selection was affected by game situation.\n",
    "\n",
    "To start with, I weeded out anything that wasn't a traditional passing or running play, so this removed timeouts, kickoffs, punts, etc, and just left running and passing plays."
   ]
  },
  {
   "cell_type": "code",
   "execution_count": 7,
   "metadata": {
    "collapsed": true
   },
   "outputs": [],
   "source": [
    "#filter out non 'traditional' plays\n",
    "d_reg = d[d.PAT == False]\n",
    "d_reg = d_reg[d_reg.ReversedPlay == False]\n",
    "d_reg = d_reg[d_reg.Punt == False]\n",
    "d_reg = d_reg[d_reg.Kickoff == False]\n",
    "d_reg = d_reg[d_reg.DeadPlay == False]\n",
    "\n",
    "\n",
    "\n",
    "reg_play_list = ('PASS','RUSH','SACK','SCRAMBLE')\n",
    "d_reg = d_reg[d_reg.PlayType.isin(reg_play_list)]\n",
    "#focus only on home offense plays\n",
    "h_off = d_reg[d.OffenseTeam == d.Home]"
   ]
  },
  {
   "cell_type": "markdown",
   "metadata": {},
   "source": [
    "My next step was to group plays together based on there value in the play type. Since I removed all but running and passing plays, this was relatively straightforward."
   ]
  },
  {
   "cell_type": "code",
   "execution_count": 4,
   "metadata": {
    "collapsed": false
   },
   "outputs": [
    {
     "data": {
      "image/png": "[encoded data removed]",
      "text/plain": [
       "<matplotlib.figure.Figure at 0x1089d8510>"
      ]
     },
     "metadata": {},
     "output_type": "display_data"
    }
   ],
   "source": [
    "\n",
    "\n",
    "grouped_plays = h_off.groupby('PlayType')\n",
    "\n",
    "plays_by_count = grouped_plays.PlayType.count()\n",
    "\n",
    "plt.figure(1)\n",
    "plays_by_count.plot(kind='bar')\n",
    "plt.show()\n"
   ]
  },
  {
   "cell_type": "markdown",
   "metadata": {},
   "source": [
    "Now, I needed a way to codify game situation. I decided that a signficant lead would be greater than 8 points, since that requires the losing team to score at least twice to tie the game. I filtered my already grouped dataset above accordingly."
   ]
  },
  {
   "cell_type": "code",
   "execution_count": 5,
   "metadata": {
    "collapsed": true
   },
   "outputs": [],
   "source": [
    "h_off_lead = h_off[h_off.HomeDeficit > 8]\n",
    "h_off_trail = h_off[h_off.HomeDeficit < -8]\n",
    "\n",
    "lead_groupings = h_off_lead.groupby('PlayType')\n",
    "trail_groupings = h_off_trail.groupby('PlayType')"
   ]
  },
  {
   "cell_type": "code",
   "execution_count": 6,
   "metadata": {
    "collapsed": false
   },
   "outputs": [
    {
     "data": {
      "image/png": "[encoded data removed]",
      "text/plain": [
       "<matplotlib.figure.Figure at 0x107e18750>"
      ]
     },
     "metadata": {},
     "output_type": "display_data"
    },
    {
     "data": {
      "image/png": "[encoded data removed]",
      "text/plain": [
       "<matplotlib.figure.Figure at 0x102974b50>"
      ]
     },
     "metadata": {},
     "output_type": "display_data"
    }
   ],
   "source": [
    "plt.figure(2)\n",
    "lead_play_count = lead_groupings.PlayType.count()\n",
    "lead_play_count.plot(kind='bar')\n",
    "plt.show()\n",
    "\n",
    "plt.figure(3)\n",
    "\n",
    "trail_play_count = trail_groupings.PlayType.count()\n",
    "trail_play_count.plot(kind='bar')\n",
    "plt.show()\n"
   ]
  },
  {
   "cell_type": "markdown",
   "metadata": {},
   "source": [
    "The graphs clearly show that teams that are losing by one or more score have a tendency to select passing plays, and teams that are winning by one or more score select more rushing plays.\n"
   ]
  }
 ],
 "metadata": {
  "kernelspec": {
   "display_name": "Python 2",
   "language": "python",
   "name": "python2"
  },
  "language_info": {
   "codemirror_mode": {
    "name": "ipython",
    "version": 2
   },
   "file_extension": ".py",
   "mimetype": "text/x-python",
   "name": "python",
   "nbconvert_exporter": "python",
   "pygments_lexer": "ipython2",
   "version": "2.7.11"
  }
 },
 "nbformat": 4,
 "nbformat_minor": 0
}
